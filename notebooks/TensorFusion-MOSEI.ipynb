{
 "cells": [
  {
   "cell_type": "markdown",
   "id": "067cb8f5-a1c8-40d0-8524-0b28f8e4b586",
   "metadata": {},
   "source": [
    "# Tensor Fusion Model - CMU-MOSEI Dataset"
   ]
  },
  {
   "cell_type": "markdown",
   "id": "dc5714ca-83db-40ac-aef0-ee05dfddd1a3",
   "metadata": {},
   "source": [
    "In this notebook, we implement the Tensor Fusion Model, and test it on CMU-MOSEI dataset."
   ]
  },
  {
   "cell_type": "markdown",
   "id": "fc015c8e-f315-40d9-823c-6fc3626a4510",
   "metadata": {},
   "source": [
    "## Importing Libraries"
   ]
  },
  {
   "cell_type": "code",
   "execution_count": 11,
   "id": "d4a4adae-a451-493d-9ddb-0efb28537923",
   "metadata": {},
   "outputs": [],
   "source": [
    "import os\n",
    "import sys\n",
    "import torch\n",
    "from torch import nn\n",
    "\n",
    "import numpy as np\n",
    "import matplotlib.pyplot as plt\n",
    "\n",
    "sys.path.append(os.getcwd())\n",
    "sys.path.append(os.path.dirname(os.path.dirname(os.getcwd())))"
   ]
  },
  {
   "cell_type": "markdown",
   "id": "52a35966-1fba-4107-a1fc-1137f26224bf",
   "metadata": {},
   "source": [
    "## Importing Helper Functions"
   ]
  },
  {
   "cell_type": "code",
   "execution_count": 12,
   "id": "b8d45f84-62c1-4315-9010-45d345dda90d",
   "metadata": {},
   "outputs": [],
   "source": [
    "from helpers.data.get_data import get_dataloader\n",
    "from helpers.unimodals.common_models import GRUWithLinear, MLP\n",
    "from helpers.fusions.common_fusions import Concat, TensorFusion\n",
    "from helpers.training.all_in_one import all_in_one_train\n",
    "from helpers.training.supervised_learning import train, test\n",
    "from helpers.utils.common_utils import get_default_device, save_results"
   ]
  },
  {
   "cell_type": "markdown",
   "id": "8dc9b148-2e2f-4cfa-a7d4-d53b639f5b18",
   "metadata": {},
   "source": [
    "## Loading the Dataset"
   ]
  },
  {
   "cell_type": "code",
   "execution_count": 13,
   "id": "7f193c63-0bfb-4248-a2a8-e81ca20a7c14",
   "metadata": {},
   "outputs": [],
   "source": [
    "traindata, validdata, testdata = get_dataloader(\n",
    "    'data/mosei_senti_data.pkl', robust_test=False)"
   ]
  },
  {
   "cell_type": "code",
   "execution_count": 14,
   "id": "75b021aa-09ec-4739-92d3-028a0ed54287",
   "metadata": {},
   "outputs": [
    {
     "name": "stdout",
     "output_type": "stream",
     "text": [
      "cuda\n"
     ]
    }
   ],
   "source": [
    "device = get_default_device()\n",
    "print(device)"
   ]
  },
  {
   "cell_type": "markdown",
   "id": "a1b80fea-4d34-4db8-a1ed-9ca4e853bbd4",
   "metadata": {},
   "source": [
    "## Model Architecture"
   ]
  },
  {
   "cell_type": "code",
   "execution_count": 15,
   "id": "59286eb3-949a-4afb-b4f4-0b115b885f92",
   "metadata": {},
   "outputs": [],
   "source": [
    "encoders = [GRUWithLinear(35, 64, 4, dropout=True, has_padding=True).to(device),\n",
    "            GRUWithLinear(74, 128, 19, dropout=True, has_padding=True).to(device),\n",
    "            GRUWithLinear(300, 512, 79, dropout=True, has_padding=True).to(device)]\n",
    "\n",
    "head = MLP(8000, 512, 1).to(device)\n",
    "\n",
    "fusion = TensorFusion().to(device)"
   ]
  },
  {
   "cell_type": "markdown",
   "id": "4575e9d5-572c-4810-ba00-030f8ded6f05",
   "metadata": {},
   "source": [
    "## Training"
   ]
  },
  {
   "cell_type": "code",
   "execution_count": 16,
   "id": "f0b5dfe9-6677-4494-a013-7343ed43b731",
   "metadata": {},
   "outputs": [],
   "source": [
    "FILE_NAME = 'mosei_tfus_r0'"
   ]
  },
  {
   "cell_type": "code",
   "execution_count": null,
   "id": "d9a645da-32a4-419a-9d64-2f499da509ac",
   "metadata": {},
   "outputs": [
    {
     "name": "stdout",
     "output_type": "stream",
     "text": [
      "Epoch [1/100]\n",
      "Train Loss: 0.7575\n",
      "Valid Loss: 0.6296\n",
      "Saving Best\n",
      "\n",
      "Epoch [2/100]\n",
      "Train Loss: 0.6464\n",
      "Valid Loss: 0.6113\n",
      "Saving Best\n",
      "\n",
      "Epoch [3/100]\n",
      "Train Loss: 0.6104\n",
      "Valid Loss: 0.6603\n",
      "\n",
      "Epoch [4/100]\n",
      "Train Loss: 0.5696\n",
      "Valid Loss: 0.6145\n",
      "\n",
      "Epoch [5/100]\n",
      "Train Loss: 0.5370\n",
      "Valid Loss: 0.5949\n",
      "Saving Best\n",
      "\n",
      "Epoch [6/100]\n",
      "Train Loss: 0.4965\n",
      "Valid Loss: 0.5907\n",
      "Saving Best\n",
      "\n",
      "Epoch [7/100]\n",
      "Train Loss: 0.4534\n",
      "Valid Loss: 0.6244\n",
      "\n",
      "Epoch [8/100]\n",
      "Train Loss: 0.4084\n",
      "Valid Loss: 0.6032\n",
      "\n",
      "Epoch [9/100]\n",
      "Train Loss: 0.3721\n",
      "Valid Loss: 0.6054\n",
      "\n",
      "Epoch [10/100]\n",
      "Train Loss: 0.3350\n",
      "Valid Loss: 0.6048\n",
      "\n",
      "Epoch [11/100]\n",
      "Train Loss: 0.3132\n",
      "Valid Loss: 0.6057\n",
      "\n",
      "Epoch [12/100]\n",
      "Train Loss: 0.2907\n",
      "Valid Loss: 0.6063\n",
      "\n",
      "Epoch [13/100]\n",
      "Train Loss: 0.2692\n",
      "Valid Loss: 0.6017\n",
      "\n",
      "Epoch [14/100]\n",
      "Train Loss: 0.2557\n",
      "Valid Loss: 0.6062\n",
      "\n",
      "Epoch [15/100]\n",
      "Train Loss: 0.2470\n",
      "Valid Loss: 0.6270\n",
      "\n",
      "Epoch [16/100]\n",
      "Train Loss: 0.2344\n",
      "Valid Loss: 0.6026\n",
      "\n",
      "Epoch [17/100]\n",
      "Train Loss: 0.2276\n",
      "Valid Loss: 0.6043\n",
      "\n",
      "Epoch [18/100]\n",
      "Train Loss: 0.2156\n",
      "Valid Loss: 0.6071\n",
      "\n",
      "Epoch [19/100]\n",
      "Train Loss: 0.2072\n",
      "Valid Loss: 0.6028\n",
      "\n",
      "Epoch [20/100]\n",
      "Train Loss: 0.2021\n",
      "Valid Loss: 0.5993\n",
      "\n",
      "Epoch [21/100]\n",
      "Train Loss: 0.1960\n",
      "Valid Loss: 0.6007\n",
      "\n",
      "Epoch [22/100]\n",
      "Train Loss: 0.1922\n",
      "Valid Loss: 0.6074\n",
      "\n",
      "Epoch [23/100]\n",
      "Train Loss: 0.1873\n",
      "Valid Loss: 0.6096\n",
      "\n",
      "Epoch [24/100]\n",
      "Train Loss: 0.1817\n",
      "Valid Loss: 0.6026\n",
      "\n",
      "Epoch [25/100]\n",
      "Train Loss: 0.1803\n",
      "Valid Loss: 0.6119\n",
      "\n",
      "Epoch [26/100]\n",
      "Train Loss: 0.1756\n",
      "Valid Loss: 0.6048\n",
      "\n",
      "Epoch [27/100]\n",
      "Train Loss: 0.1735\n",
      "Valid Loss: 0.6042\n",
      "\n",
      "Epoch [28/100]\n",
      "Train Loss: 0.1692\n",
      "Valid Loss: 0.6026\n",
      "\n",
      "Epoch [29/100]\n",
      "Train Loss: 0.1713\n",
      "Valid Loss: 0.6107\n",
      "\n",
      "Epoch [30/100]\n",
      "Train Loss: 0.1622\n",
      "Valid Loss: 0.6011\n",
      "\n",
      "Epoch [31/100]\n",
      "Train Loss: 0.1608\n",
      "Valid Loss: 0.6056\n",
      "\n",
      "Epoch [32/100]\n",
      "Train Loss: 0.1605\n",
      "Valid Loss: 0.6000\n",
      "\n",
      "Epoch [33/100]\n",
      "Train Loss: 0.1574\n",
      "Valid Loss: 0.6033\n",
      "\n",
      "Epoch [34/100]\n",
      "Train Loss: 0.1562\n",
      "Valid Loss: 0.5975\n",
      "\n",
      "Epoch [35/100]\n",
      "Train Loss: 0.1525\n",
      "Valid Loss: 0.6037\n",
      "\n",
      "Epoch [36/100]\n",
      "Train Loss: 0.1487\n",
      "Valid Loss: 0.5982\n",
      "\n",
      "Epoch [37/100]\n",
      "Train Loss: 0.1489\n",
      "Valid Loss: 0.5948\n",
      "\n",
      "Epoch [38/100]\n",
      "Train Loss: 0.1453\n",
      "Valid Loss: 0.5983\n",
      "\n",
      "Epoch [39/100]\n",
      "Train Loss: 0.1451\n",
      "Valid Loss: 0.5999\n",
      "\n",
      "Epoch [40/100]\n",
      "Train Loss: 0.1432\n",
      "Valid Loss: 0.6063\n",
      "\n",
      "Epoch [41/100]\n",
      "Train Loss: 0.1398\n",
      "Valid Loss: 0.6005\n",
      "\n",
      "Epoch [42/100]\n",
      "Train Loss: 0.1394\n",
      "Valid Loss: 0.6006\n",
      "\n",
      "Epoch [43/100]\n",
      "Train Loss: 0.1391\n",
      "Valid Loss: 0.5979\n",
      "\n",
      "Epoch [44/100]\n",
      "Train Loss: 0.1361\n",
      "Valid Loss: 0.5970\n",
      "\n",
      "Epoch [45/100]\n",
      "Train Loss: 0.1351\n",
      "Valid Loss: 0.6042\n",
      "\n",
      "Epoch [46/100]\n",
      "Train Loss: 0.1341\n",
      "Valid Loss: 0.5971\n",
      "\n",
      "Epoch [47/100]\n",
      "Train Loss: 0.1330\n",
      "Valid Loss: 0.5949\n",
      "\n",
      "Epoch [48/100]\n",
      "Train Loss: 0.1337\n",
      "Valid Loss: 0.5993\n",
      "\n",
      "Epoch [49/100]\n",
      "Train Loss: 0.1305\n",
      "Valid Loss: 0.6012\n",
      "\n",
      "Epoch [50/100]\n"
     ]
    }
   ],
   "source": [
    "train_losses, valid_losses = train(\n",
    "    encoders, fusion, head, traindata, validdata, 100, \n",
    "    task=\"regression\", optimtype=torch.optim.AdamW,\n",
    "    early_stop=False, is_packed=True, lr=1e-3, \n",
    "    save=f'models/{FILE_NAME}.pt', \n",
    "    weight_decay=0.01, objective=torch.nn.L1Loss()\n",
    ")"
   ]
  },
  {
   "cell_type": "code",
   "execution_count": null,
   "id": "b0e7c33a-a68d-4292-a2b2-14e8a2e53500",
   "metadata": {},
   "outputs": [],
   "source": [
    "plt.plot(train_losses, label='Train Loss')\n",
    "plt.plot(valid_losses, label='Validation Loss')\n",
    "plt.xlabel('Epochs')\n",
    "plt.ylabel('Loss')\n",
    "plt.legend()\n",
    "plt.grid(True)\n",
    "plt.title('Loss vs. No. of epochs')"
   ]
  },
  {
   "cell_type": "code",
   "execution_count": null,
   "id": "8bbd60df-8764-4fcd-a545-90860e5f8a2c",
   "metadata": {},
   "outputs": [],
   "source": [
    "save_results(train_losses, valid_losses, f'results/{FILE_NAME}.pkl')"
   ]
  },
  {
   "cell_type": "markdown",
   "id": "a2a0ca4a-2c05-4ba2-a6aa-1db0e341598b",
   "metadata": {},
   "source": [
    "## Testing"
   ]
  },
  {
   "cell_type": "code",
   "execution_count": null,
   "id": "d4352442-0d78-4195-bd04-2332af36a7f7",
   "metadata": {},
   "outputs": [],
   "source": [
    "model = torch.load(f'models/{FILE_NAME}.pt').to(device)\n",
    "\n",
    "test(model, test_dataloaders_all=testdata, dataset='mosi',\n",
    "     is_packed=True, criterion=torch.nn.L1Loss(), task='posneg-classification', no_robust=True)"
   ]
  },
  {
   "cell_type": "code",
   "execution_count": null,
   "id": "dd7d4419-cc6b-4022-9b93-49772c55a675",
   "metadata": {},
   "outputs": [],
   "source": []
  }
 ],
 "metadata": {
  "kernelspec": {
   "display_name": "Python 3 (ipykernel)",
   "language": "python",
   "name": "python3"
  },
  "language_info": {
   "codemirror_mode": {
    "name": "ipython",
    "version": 3
   },
   "file_extension": ".py",
   "mimetype": "text/x-python",
   "name": "python",
   "nbconvert_exporter": "python",
   "pygments_lexer": "ipython3",
   "version": "3.11.7"
  }
 },
 "nbformat": 4,
 "nbformat_minor": 5
}
