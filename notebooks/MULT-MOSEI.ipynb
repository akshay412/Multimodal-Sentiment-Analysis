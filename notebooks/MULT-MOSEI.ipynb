{
 "cells": [
  {
   "cell_type": "markdown",
   "id": "49e0ad50-a2a2-4b96-b360-6ebd4ba790f6",
   "metadata": {},
   "source": [
    "# Multimodal Transformer Model - MOSEI"
   ]
  },
  {
   "cell_type": "markdown",
   "id": "1601d4a9-c176-4e94-9c84-250ae7ceb246",
   "metadata": {},
   "source": [
    "In this notebook, we implement the MulT Model (Multimodal Transformer for Unaligned Multimodal Language Sequences), and test it on CMU-MOSEI dataset."
   ]
  },
  {
   "cell_type": "markdown",
   "id": "0e330111-2839-49fa-86f3-2204b6d24fc4",
   "metadata": {},
   "source": [
    "## Importing Libraries"
   ]
  },
  {
   "cell_type": "code",
   "execution_count": 1,
   "id": "90273986-226c-4f13-a783-27d03eda1e21",
   "metadata": {},
   "outputs": [],
   "source": [
    "import os\n",
    "import sys\n",
    "import torch\n",
    "\n",
    "import numpy as np\n",
    "import matplotlib.pyplot as plt\n",
    "\n",
    "sys.path.append(os.getcwd())\n",
    "sys.path.append(os.path.dirname(os.path.dirname(os.getcwd())))"
   ]
  },
  {
   "cell_type": "markdown",
   "id": "3a8511b4-49ef-4df0-916e-07c8002ebcf9",
   "metadata": {},
   "source": [
    "## Importing Helper Functions"
   ]
  },
  {
   "cell_type": "code",
   "execution_count": 2,
   "id": "77dcaf0e-287e-4312-a80b-a67ca4221f73",
   "metadata": {},
   "outputs": [],
   "source": [
    "from helpers.data.get_data import get_dataloader\n",
    "from helpers.unimodals.common_models import Identity, MLP\n",
    "from helpers.fusions.mult import MULTModel\n",
    "from helpers.fusions.common_fusions import Concat\n",
    "from helpers.training.supervised_learning import train, test\n",
    "from helpers.utils.common_utils import get_default_device, save_results"
   ]
  },
  {
   "cell_type": "markdown",
   "id": "2bc745d1-4151-4894-af83-77780036ba7b",
   "metadata": {},
   "source": [
    "## Loading the Dataset"
   ]
  },
  {
   "cell_type": "code",
   "execution_count": 3,
   "id": "c7aa2aea-6160-4f43-a6f1-596f9c26bab7",
   "metadata": {},
   "outputs": [],
   "source": [
    "traindata, validdata, testdata = get_dataloader('data/mosei_senti_data.pkl', robust_test=False, max_pad=True)"
   ]
  },
  {
   "cell_type": "code",
   "execution_count": 5,
   "id": "3e83b4bf-2838-4c0b-beb8-3d6150a369f3",
   "metadata": {},
   "outputs": [
    {
     "name": "stdout",
     "output_type": "stream",
     "text": [
      "cuda\n"
     ]
    }
   ],
   "source": [
    "device = get_default_device()\n",
    "print(device)"
   ]
  },
  {
   "cell_type": "markdown",
   "id": "da5644c7-a89a-437f-8b75-3bf386b20dea",
   "metadata": {},
   "source": [
    "## Model Architecture"
   ]
  },
  {
   "cell_type": "code",
   "execution_count": 6,
   "id": "55070fb4-ea3e-4529-a717-7a0b3baf5275",
   "metadata": {},
   "outputs": [],
   "source": [
    "class HParams():\n",
    "    num_heads = 8\n",
    "    layers = 4\n",
    "    attn_dropout = 0.1\n",
    "    attn_dropout_modalities = [0, 0, 0.1]\n",
    "    relu_dropout = 0.1\n",
    "    res_dropout = 0.1\n",
    "    out_dropout = 0.1\n",
    "    embed_dropout = 0.2\n",
    "    embed_dim = 40\n",
    "    attn_mask = True\n",
    "    output_dim = 1\n",
    "    all_steps = False"
   ]
  },
  {
   "cell_type": "code",
   "execution_count": 7,
   "id": "b897d94f-f547-4100-aa74-80076e92e8fd",
   "metadata": {},
   "outputs": [],
   "source": [
    "encoders = [\n",
    "    Identity().to(device), \n",
    "    Identity().to(device), \n",
    "    Identity().to(device),\n",
    "    \n",
    "]\n",
    "\n",
    "fusion = MULTModel(3, [35, 74, 300], hyp_params=HParams).to(device)\n",
    "\n",
    "head = Identity().to(device)"
   ]
  },
  {
   "cell_type": "markdown",
   "id": "1ccb00f7-9da1-43bb-b41e-f39eca505a76",
   "metadata": {},
   "source": [
    "## Training"
   ]
  },
  {
   "cell_type": "code",
   "execution_count": 8,
   "id": "334d11e7-12b3-476b-8a3e-ebc39c814460",
   "metadata": {},
   "outputs": [],
   "source": [
    "FILE_NAME = 'mosei_mult_r0'"
   ]
  },
  {
   "cell_type": "code",
   "execution_count": null,
   "id": "49704ef0-fdb1-4f25-93a3-25083ce2d016",
   "metadata": {},
   "outputs": [
    {
     "name": "stdout",
     "output_type": "stream",
     "text": [
      "Epoch [1/30]\n",
      "Train Loss: 0.7832\n",
      "Valid Loss: 0.6622\n",
      "Saving Best\n",
      "\n",
      "Epoch [2/30]\n",
      "Train Loss: 0.6829\n",
      "Valid Loss: 0.6662\n",
      "\n",
      "Epoch [3/30]\n",
      "Train Loss: 0.6525\n",
      "Valid Loss: 0.6240\n",
      "Saving Best\n",
      "\n",
      "Epoch [4/30]\n"
     ]
    }
   ],
   "source": [
    "train_losses, valid_losses = train(\n",
    "    encoders, fusion, head, traindata, validdata, 30, \n",
    "    task=\"regression\", optimtype=torch.optim.AdamW, early_stop=False, is_packed=False, \n",
    "    lr=1e-3, clip_val=1.0, save=f'models/{FILE_NAME}.pt', \n",
    "    weight_decay=0.01, objective=torch.nn.L1Loss())"
   ]
  },
  {
   "cell_type": "code",
   "execution_count": null,
   "id": "6322ee5b-0442-47f3-a910-2533fee34036",
   "metadata": {},
   "outputs": [],
   "source": [
    "plt.plot(train_losses, label='Train Loss')\n",
    "plt.plot(valid_losses, label='Validation Loss')\n",
    "plt.xlabel('Epochs')\n",
    "plt.ylabel('Loss')\n",
    "plt.legend()\n",
    "plt.grid(True)\n",
    "plt.title('Loss vs. No. of epochs')"
   ]
  },
  {
   "cell_type": "code",
   "execution_count": null,
   "id": "4ecbf0dc-8fad-490b-bd2a-5b0c265e91ab",
   "metadata": {},
   "outputs": [],
   "source": [
    "save_results(train_losses, valid_losses, f'results/{FILE_NAME}.pkl')"
   ]
  },
  {
   "cell_type": "markdown",
   "id": "7c091121-ff36-40fc-ab64-a58a4f524e8b",
   "metadata": {},
   "source": [
    "## Testing"
   ]
  },
  {
   "cell_type": "code",
   "execution_count": null,
   "id": "d01b591b-614f-433c-9ae7-10ac18a850fe",
   "metadata": {},
   "outputs": [],
   "source": [
    "model = torch.load(f'models/{FILE_NAME}.pt').to(device)\n",
    "\n",
    "test(model, test_dataloaders_all=testdata, dataset='mosi', is_packed=False,\n",
    "     criterion=torch.nn.L1Loss(), task='posneg-classification', no_robust=True)"
   ]
  },
  {
   "cell_type": "code",
   "execution_count": null,
   "id": "36248b8b-cf37-43b3-bdda-f2d7bf3ecce0",
   "metadata": {},
   "outputs": [],
   "source": []
  },
  {
   "cell_type": "code",
   "execution_count": null,
   "id": "a1de2fbd-8040-45a2-a511-4b0b569af818",
   "metadata": {},
   "outputs": [],
   "source": []
  }
 ],
 "metadata": {
  "kernelspec": {
   "display_name": "Python 3 (ipykernel)",
   "language": "python",
   "name": "python3"
  },
  "language_info": {
   "codemirror_mode": {
    "name": "ipython",
    "version": 3
   },
   "file_extension": ".py",
   "mimetype": "text/x-python",
   "name": "python",
   "nbconvert_exporter": "python",
   "pygments_lexer": "ipython3",
   "version": "3.11.7"
  }
 },
 "nbformat": 4,
 "nbformat_minor": 5
}
